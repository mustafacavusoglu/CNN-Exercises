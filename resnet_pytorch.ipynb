{
 "cells": [
  {
   "cell_type": "code",
   "execution_count": 1,
   "metadata": {},
   "outputs": [
    {
     "data": {
      "text/plain": [
       "False"
      ]
     },
     "execution_count": 1,
     "metadata": {},
     "output_type": "execute_result"
    }
   ],
   "source": [
    "import torch\n",
    "import torch.nn as nn\n",
    "import torch.nn.functional as f\n",
    "from PIL import Image\n",
    "import matplotlib.pyplot as plt\n",
    "import numpy as np\n",
    "import os\n",
    "import time\n",
    "torch.cuda.is_available()\n"
   ]
  },
  {
   "cell_type": "markdown",
   "metadata": {},
   "source": [
    "# İs Cuda Available"
   ]
  },
  {
   "cell_type": "code",
   "execution_count": 2,
   "metadata": {},
   "outputs": [
    {
     "name": "stdout",
     "output_type": "stream",
     "text": [
      "cpu\n"
     ]
    }
   ],
   "source": [
    "device = torch.device(\"cuda:0\" if torch.cuda.is_available() else \"cpu\")\n",
    "print(device)"
   ]
  },
  {
   "cell_type": "code",
   "execution_count": 3,
   "metadata": {},
   "outputs": [],
   "source": [
    "def read_images(path,num_img):\n",
    "    array = np.zeros([num_img,64*32])\n",
    "    i = 0\n",
    "    for image in os.listdir(path):\n",
    "        img_path = path + \"\\\\\" + image\n",
    "        if image.endswith(\".png\"):\n",
    "            img = Image.open(img_path, mode=\"r\")\n",
    "            data = np.asarray(img, dtype=\"uint8\")\n",
    "            data = data.flatten()\n",
    "            array[i,:] = data\n",
    "            i += 1\n",
    "        else:\n",
    "            pass\n",
    "    return array    "
   ]
  },
  {
   "cell_type": "code",
   "execution_count": 4,
   "metadata": {},
   "outputs": [],
   "source": [
    "train_neg_path = r\"C:\\Users\\mustdo\\Desktop\\workspace\\Machine Learning\\deeplearning\\LSIFIR\\Classification\\Train\\neg\"\n",
    "train_pos_path = r\"C:\\Users\\mustdo\\Desktop\\workspace\\Machine Learning\\deeplearning\\LSIFIR\\Classification\\Train\\pos\"\n",
    "\n",
    "pos_nums = 10208\n",
    "neg_nums = 43390\n",
    "\n",
    "pos_train_array = read_images(train_pos_path,pos_nums)\n",
    "neg_train_array = read_images(train_neg_path,neg_nums)"
   ]
  },
  {
   "cell_type": "code",
   "execution_count": 5,
   "metadata": {},
   "outputs": [
    {
     "name": "stdout",
     "output_type": "stream",
     "text": [
      "torch.Size([10208])\n",
      "torch.Size([43390])\n"
     ]
    }
   ],
   "source": [
    "x_pos_train_tensor = torch.from_numpy(pos_train_array)\n",
    "\n",
    "y_pos_train_tensor =torch.ones(pos_nums,dtype=torch.long)\n",
    "\n",
    "print(y_pos_train_tensor.size())\n",
    "\n",
    "x_neg_train_tensor = torch.from_numpy(neg_train_array)\n",
    "\n",
    "y_neg_train_tensor =torch.zeros(neg_nums,dtype=torch.long)\n",
    "\n",
    "print(y_neg_train_tensor.size())\n"
   ]
  },
  {
   "cell_type": "code",
   "execution_count": 6,
   "metadata": {},
   "outputs": [
    {
     "name": "stdout",
     "output_type": "stream",
     "text": [
      "torch.Size([53598, 2048])\n",
      "torch.Size([53598])\n"
     ]
    }
   ],
   "source": [
    "x_train = torch.cat((x_neg_train_tensor,x_pos_train_tensor),0)\n",
    "y_train = torch.cat((y_neg_train_tensor,y_pos_train_tensor),0)\n",
    "print(x_train.size())\n",
    "\n",
    "print(y_train.size())"
   ]
  },
  {
   "cell_type": "code",
   "execution_count": 7,
   "metadata": {},
   "outputs": [],
   "source": [
    "test_neg_path = r\"C:\\Users\\mustdo\\Desktop\\workspace\\Machine Learning\\deeplearning\\LSIFIR\\Classification\\Test\\neg\"\n",
    "test_pos_path = r\"C:\\Users\\mustdo\\Desktop\\workspace\\Machine Learning\\deeplearning\\LSIFIR\\Classification\\Test\\pos\"\n",
    "\n",
    "pos_test_nums = 5944\n",
    "neg_test_nums = 22050\n",
    "\n",
    "neg_test_array = read_images(test_neg_path,neg_test_nums)\n",
    "pos_test_array = read_images(test_pos_path,pos_test_nums)\n"
   ]
  },
  {
   "cell_type": "code",
   "execution_count": 8,
   "metadata": {},
   "outputs": [
    {
     "name": "stdout",
     "output_type": "stream",
     "text": [
      "torch.Size([5944])\n",
      "torch.Size([22050])\n"
     ]
    }
   ],
   "source": [
    "x_pos_test_tensor = torch.from_numpy(pos_test_array)\n",
    "\n",
    "y_pos_test_tensor =torch.ones(pos_test_nums,dtype=torch.long)\n",
    "\n",
    "print(y_pos_test_tensor.size())\n",
    "\n",
    "x_neg_test_tensor = torch.from_numpy(neg_test_array)\n",
    "    \n",
    "y_neg_test_tensor =torch.zeros(neg_test_nums,dtype=torch.long)\n",
    "\n",
    "print(y_neg_test_tensor.size())\n",
    "            "
   ]
  },
  {
   "cell_type": "code",
   "execution_count": 9,
   "metadata": {},
   "outputs": [
    {
     "name": "stdout",
     "output_type": "stream",
     "text": [
      "torch.Size([27994, 2048])\n",
      "torch.Size([27994])\n"
     ]
    }
   ],
   "source": [
    "x_test = torch.cat((x_neg_test_tensor,x_pos_test_tensor),0)\n",
    "y_test = torch.cat((y_neg_test_tensor,y_pos_test_tensor),0)\n",
    "print(x_test.size())\n",
    "\n",
    "print(y_test.size())"
   ]
  },
  {
   "cell_type": "code",
   "execution_count": 15,
   "metadata": {},
   "outputs": [
    {
     "data": {
      "image/png": "[encoded data removed]",
      "text/plain": [
       "<Figure size 432x288 with 1 Axes>"
      ]
     },
     "metadata": {
      "needs_background": "light"
     },
     "output_type": "display_data"
    }
   ],
   "source": [
    "plt.imshow(x_train[13411,:].reshape(64,32),cmap=\"gray\")\n",
    "plt.show()"
   ]
  },
  {
   "cell_type": "code",
   "execution_count": 22,
   "metadata": {},
   "outputs": [],
   "source": [
    "num_epochs = 5\n",
    "num_classes = 2\n",
    "batch_size = 2\n",
    "lr = 0.0001\n",
    "\n",
    "from torch.utils import data\n",
    "    \n",
    "train = torch.utils.data.TensorDataset(x_train,y_train)\n",
    "train_loader = torch.utils.data.DataLoader(train, batch_size=batch_size, shuffle=True)\n",
    "\n",
    "test = torch.utils.data.TensorDataset(x_test,y_test)\n",
    "test_loader = torch.utils.data.DataLoader(test, batch_size=batch_size, shuffle=False)"
   ]
  },
  {
   "cell_type": "markdown",
   "metadata": {},
   "source": [
    "# Deep residual network"
   ]
  },
  {
   "cell_type": "code",
   "execution_count": 23,
   "metadata": {},
   "outputs": [],
   "source": [
    "def conv3x3(in_plane,out_plane,stride=1):\n",
    "    return nn.Conv2d(in_plane,out_plane,kernel_size=3,stride=stride,padding=1,bias= False)\n",
    "\n",
    "def conv1x1(in_plane,out_plane,stride=1):\n",
    "    return nn.Conv2d(in_plane, out_plane, kernel_size=1, stride=stride, bias= False)\n",
    "\n",
    "class BasicBlock(nn.Module):\n",
    "    expansion = 1\n",
    "    def __init__(self, inplanes, planes, stride=1, downsample= None):\n",
    "        super(BasicBlock,self).__init__()\n",
    "        self.conv1 = conv3x3(inplanes, planes, stride)\n",
    "        self.bn1 = nn.BatchNorm2d(planes)\n",
    "        self.relu = nn.ReLU(inplace = True)\n",
    "        self.drop = nn.Dropout(0.9)\n",
    "        self.conv2 = conv3x3(planes, planes)\n",
    "        self.bn2 = nn.BatchNorm2d(planes)\n",
    "        self.downsample = downsample\n",
    "        self.stride = stride\n",
    "    \n",
    "    def forward(self,x):\n",
    "        identity = x\n",
    "        out = self.conv1(x)\n",
    "        out = self.bn1(out)\n",
    "        out = self.relu(out)\n",
    "        \n",
    "        out = self.conv2(out)\n",
    "        out = self.bn2(out)\n",
    "        out = self.drop(out)\n",
    "        \n",
    "        if self.downsample is not None:\n",
    "            identity = self.downsample(x)\n",
    "        out = out + identity\n",
    "        \n",
    "        out = self.relu(out)\n",
    "        \n",
    "        return out\n",
    "    \n"
   ]
  },
  {
   "cell_type": "code",
   "execution_count": 24,
   "metadata": {},
   "outputs": [],
   "source": [
    "class ResNet(nn.Module):\n",
    "    def __init__(self, block, layers:list, num_classes = num_classes):\n",
    "        super(ResNet,self).__init__()\n",
    "        self.inplanes = 64\n",
    "        self.conv1 = nn.Conv2d(1,64, kernel_size=7, stride=2, padding=3, bias=False)\n",
    "        self.bn1 = nn.BatchNorm2d(64)\n",
    "        self.relu = nn.ReLU(inplace=True)\n",
    "        self.maxpool = nn.MaxPool2d(kernel_size=3, stride=2, padding=1)\n",
    "        self.layer1 = self._make_layer(block, 64 ,layers[0], stride=1)\n",
    "        self.layer2 = self._make_layer(block, 128 ,layers[1], stride=2)\n",
    "        self.layer3 = self._make_layer(block, 256 ,layers[2], stride=2)\n",
    "        \n",
    "        self.avgpool = nn.AdaptiveAvgPool2d((1,1))\n",
    "        self.fc = nn.Linear(256*block.expansion, num_classes)\n",
    "        \n",
    "        for m in self.modules():\n",
    "            if isinstance(m,nn.Conv2d):\n",
    "                nn.init.kaiming_normal_(m.weight,mode=\"fan_out\",nonlinearity=\"relu\")\n",
    "            elif isinstance(m,nn.BatchNorm2d):\n",
    "                nn.init.constant_(m.weight,1)\n",
    "                nn.init.constant_(m.bias,0)\n",
    "        \n",
    "    def _make_layer(self, block, planes, blocks, stride = 1):\n",
    "        downsample = None\n",
    "        \n",
    "        if stride != 1 or self.inplanes != planes*block.expansion:\n",
    "            downsample = nn.Sequential(\n",
    "                conv1x1(self.inplanes, planes*block.expansion, stride),\n",
    "                nn.BatchNorm2d(planes*block.expansion))\n",
    "        \n",
    "        layers = []\n",
    "        layers.append(block(self.inplanes, planes, stride, downsample))\n",
    "        self.inplanes = planes*block.expansion\n",
    "        \n",
    "        for _ in range(1,blocks):\n",
    "            layers.append(block(self.inplanes, planes))\n",
    "        return nn.Sequential(*layers)\n",
    "    def forward(self,x):\n",
    "        x = self.conv1(x)\n",
    "        x = self.bn1(x)\n",
    "        x = self.relu(x)\n",
    "        x = self.maxpool(x)\n",
    "        x = self.layer1(x)\n",
    "        x = self.layer2(x)\n",
    "        x = self.layer3(x)\n",
    "        x = self.avgpool(x)\n",
    "        x = x.view(x.size(0),-1)\n",
    "        x = self.fc(x)\n",
    "        \n",
    "        return x"
   ]
  },
  {
   "cell_type": "code",
   "execution_count": 25,
   "metadata": {},
   "outputs": [],
   "source": [
    "model = ResNet(BasicBlock, [2,2,2])"
   ]
  },
  {
   "cell_type": "code",
   "execution_count": 26,
   "metadata": {},
   "outputs": [],
   "source": [
    "criterion = nn.CrossEntropyLoss()\n",
    "optimizer = torch.optim.Adam(model.parameters(),lr =lr)"
   ]
  },
  {
   "cell_type": "code",
   "execution_count": null,
   "metadata": {},
   "outputs": [
    {
     "name": "stdout",
     "output_type": "stream",
     "text": [
      "Epoch:=============> 0 0/26799\n",
      "Epoch:=============> 0 1000/26799\n",
      "Epoch:=============> 0 2000/26799\n"
     ]
    }
   ],
   "source": [
    "loss_list = []\n",
    "train_acc = []\n",
    "test_acc = []\n",
    "use_gpu = False\n",
    "\n",
    "total_step = len(train_loader)\n",
    "\n",
    "for epoch in range(num_epochs):\n",
    "    for i,(images,labels) in enumerate(train_loader):\n",
    "        images = images.view(batch_size,1,64,32)\n",
    "        images = images.float()\n",
    "        \n",
    "        outputs = model(images)\n",
    "        \n",
    "        loss = criterion(outputs,labels)\n",
    "        \n",
    "        optimizer.zero_grad()\n",
    "        loss.backward()\n",
    "        optimizer.step()\n",
    "        \n",
    "        if i%1000 == 0:\n",
    "            print(\"Epoch:=============> {} {}/{}\".format(epoch,i,total_step))\n",
    "            \n",
    "    correct = 0\n",
    "    total = 0\n",
    "    with torch.no_grad:\n",
    "        for data in train_loader:\n",
    "            images,labels = data\n",
    "            images = images.view(batch_size,1,64,32)\n",
    "            images = images.float()\n",
    "            \n",
    "            outputs = model(images)\n",
    "            _,predicted = torch.max(outputs.data,1)\n",
    "            total += labels.size(0)\n",
    "            correct = (predicted==labels).sum().item()\n",
    "    print(\"Train accuracy : %d  %%\"%(100*correct/total))\n",
    "    train_acc.append(100*correct/total)\n",
    "    \n",
    "    correct = 0\n",
    "    total = 0\n",
    "    with torch.no_grad:\n",
    "        for data in test_loader:\n",
    "            images,labels = data\n",
    "            images = images.view(batch_size,1,64,32)\n",
    "            images = images.float()\n",
    "            \n",
    "            outputs = model(images)\n",
    "            _,predicted = torch.max(outputs.data,1)\n",
    "            total += labels.size(0)\n",
    "            correct = (predicted==labels).sum().item()\n",
    "    print(\"Test accuracy : %d  %%\"%(100*correct/total))\n",
    "    test_acc.append(100*correct/total)\n",
    "    loss_list.append(loss.item())\n",
    "            \n",
    "            \n",
    "            \n",
    "            \n",
    "            \n",
    "            \n",
    "            \n",
    "            \n",
    "            \n",
    "            \n",
    "            \n",
    "            \n",
    "            \n",
    "            \n",
    "            \n",
    "            "
   ]
  },
  {
   "cell_type": "code",
   "execution_count": null,
   "metadata": {},
   "outputs": [],
   "source": []
  }
 ],
 "metadata": {
  "kernelspec": {
   "display_name": "Python 3",
   "language": "python",
   "name": "python3"
  },
  "language_info": {
   "codemirror_mode": {
    "name": "ipython",
    "version": 3
   },
   "file_extension": ".py",
   "mimetype": "text/x-python",
   "name": "python",
   "nbconvert_exporter": "python",
   "pygments_lexer": "ipython3",
   "version": "3.7.6"
  }
 },
 "nbformat": 4,
 "nbformat_minor": 4
}
