{
  "nbformat": 4,
  "nbformat_minor": 0,
  "metadata": {
    "kernelspec": {
      "display_name": "Python 3",
      "language": "python",
      "name": "python3"
    },
    "language_info": {
      "codemirror_mode": {
        "name": "ipython",
        "version": 3
      },
      "file_extension": ".py",
      "mimetype": "text/x-python",
      "name": "python",
      "nbconvert_exporter": "python",
      "pygments_lexer": "ipython3",
      "version": "3.7.6"
    },
    "colab": {
      "name": "kerasGanBasic.ipynb",
      "provenance": [],
      "include_colab_link": true
    },
    "accelerator": "GPU"
  },
  "cells": [
    {
      "cell_type": "markdown",
      "metadata": {
        "id": "view-in-github",
        "colab_type": "text"
      },
      "source": [
        "<a href=\"https://colab.research.google.com/github/mustafacavusoglu/CNN-Exercises/blob/main/kerasGanBasic.ipynb\" target=\"_parent\"><img src=\"https://colab.research.google.com/assets/colab-badge.svg\" alt=\"Open In Colab\"/></a>"
      ]
    },
    {
      "cell_type": "code",
      "metadata": {
        "id": "hIUe7PrszNjf"
      },
      "source": [
        "from keras.layers import Dense, Dropout,Input,ReLU\n",
        "from keras.models import Model,Sequential\n",
        "from keras.optimizers import Adam\n",
        "from keras.datasets import mnist\n",
        "import numpy as np\n",
        "import matplotlib.pyplot as plt\n"
      ],
      "execution_count": 21,
      "outputs": []
    },
    {
      "cell_type": "code",
      "metadata": {
        "id": "DaWknoJOzNjy"
      },
      "source": [
        "(x_train,y_train),(x_test,y_test) = mnist.load_data()"
      ],
      "execution_count": 22,
      "outputs": []
    },
    {
      "cell_type": "code",
      "metadata": {
        "id": "fkgVHR0ozNj0"
      },
      "source": [
        "x_train = (x_train.astype(np.float32)-127.5)/127.5\n",
        "x_train = x_train.reshape(x_train.shape[0],x_train.shape[1]*x_train.shape[2])"
      ],
      "execution_count": 23,
      "outputs": []
    },
    {
      "cell_type": "code",
      "metadata": {
        "colab": {
          "base_uri": "https://localhost:8080/"
        },
        "id": "JJE9j4AYzNj1",
        "outputId": "5511b743-5139-477e-ce7b-45582667a6e7"
      },
      "source": [
        "print(x_train.shape)"
      ],
      "execution_count": 24,
      "outputs": [
        {
          "output_type": "stream",
          "text": [
            "(60000, 784)\n"
          ],
          "name": "stdout"
        }
      ]
    },
    {
      "cell_type": "code",
      "metadata": {
        "colab": {
          "base_uri": "https://localhost:8080/",
          "height": 282
        },
        "id": "ztj-MldwzNj5",
        "outputId": "00348e7c-9a17-4a5f-ad47-cfda7f7209a9"
      },
      "source": [
        "    plt.imshow(x_test[15])"
      ],
      "execution_count": 25,
      "outputs": [
        {
          "output_type": "execute_result",
          "data": {
            "text/plain": [
              "<matplotlib.image.AxesImage at 0x7f09cc0576d8>"
            ]
          },
          "metadata": {
            "tags": []
          },
          "execution_count": 25
        },
        {
          "output_type": "display_data",
          "data": {
            "image/png": "[encoded data removed]",
            "text/plain": [
              "<Figure size 432x288 with 1 Axes>"
            ]
          },
          "metadata": {
            "tags": [],
            "needs_background": "light"
          }
        }
      ]
    },
    {
      "cell_type": "code",
      "metadata": {
        "colab": {
          "base_uri": "https://localhost:8080/"
        },
        "id": "CZmuCEX4zNj7",
        "outputId": "9f2bdaf6-5042-43f2-8d30-e67e0860093c"
      },
      "source": [
        "def create_generaor():\n",
        "    generator = Sequential()\n",
        "    generator.add(Dense(units = 512, input_dim = 100))\n",
        "    generator.add(ReLU())\n",
        "    \n",
        "    generator.add(Dense(units = 1024))\n",
        "    generator.add(ReLU())\n",
        "    \n",
        "    generator.add(Dense(units = 2048))\n",
        "    generator.add(ReLU())\n",
        "    \n",
        "    generator.add(Dense(units = 784, activation = \"tanh\"))\n",
        "   \n",
        "    generator.compile(loss = \"binary_crossentropy\",\n",
        "                     optimizer=Adam(learning_rate = 0.002,beta_1 = 0.5))\n",
        "    \n",
        "    return generator\n",
        "\n",
        "g = create_generaor()\n",
        "print(g.summary())\n",
        "\n",
        "\n",
        "\n",
        "\n",
        "\n",
        "\n",
        "\n",
        "    \n",
        "    \n",
        "    "
      ],
      "execution_count": 26,
      "outputs": [
        {
          "output_type": "stream",
          "text": [
            "Model: \"sequential_2\"\n",
            "_________________________________________________________________\n",
            "Layer (type)                 Output Shape              Param #   \n",
            "=================================================================\n",
            "dense_8 (Dense)              (None, 512)               51712     \n",
            "_________________________________________________________________\n",
            "re_lu_6 (ReLU)               (None, 512)               0         \n",
            "_________________________________________________________________\n",
            "dense_9 (Dense)              (None, 1024)              525312    \n",
            "_________________________________________________________________\n",
            "re_lu_7 (ReLU)               (None, 1024)              0         \n",
            "_________________________________________________________________\n",
            "dense_10 (Dense)             (None, 2048)              2099200   \n",
            "_________________________________________________________________\n",
            "re_lu_8 (ReLU)               (None, 2048)              0         \n",
            "_________________________________________________________________\n",
            "dense_11 (Dense)             (None, 784)               1606416   \n",
            "=================================================================\n",
            "Total params: 4,282,640\n",
            "Trainable params: 4,282,640\n",
            "Non-trainable params: 0\n",
            "_________________________________________________________________\n",
            "None\n"
          ],
          "name": "stdout"
        }
      ]
    },
    {
      "cell_type": "code",
      "metadata": {
        "id": "ZLy2cLR0zNj8"
      },
      "source": [
        "def create_discriminator():\n",
        "    discriminator = Sequential()\n",
        "    discriminator.add(Dense(units = 2048, input_dim = 784))\n",
        "    discriminator.add(ReLU())\n",
        "    discriminator.add(Dropout(0.4))\n",
        "    \n",
        "    discriminator.add(Dense(units = 1024))\n",
        "    discriminator.add(ReLU())\n",
        "    discriminator.add(Dropout(0.2))\n",
        "    \n",
        "    discriminator.add(Dense(units = 256))\n",
        "    discriminator.add(ReLU())\n",
        "    \n",
        "    discriminator.add(Dense(units = 1, activation = \"sigmoid\"))\n",
        "    \n",
        "    discriminator.compile(loss = \"binary_crossentropy\",\n",
        "                     optimizer=Adam(learning_rate = 0.002,beta_1 = 0.5))\n",
        "    return discriminator\n",
        "    "
      ],
      "execution_count": 27,
      "outputs": []
    },
    {
      "cell_type": "code",
      "metadata": {
        "colab": {
          "base_uri": "https://localhost:8080/"
        },
        "id": "CetpBjRfzNj9",
        "outputId": "336ad4b0-8d82-4334-c127-171a4651e630"
      },
      "source": [
        "d = create_discriminator()\n",
        "print(d.summary())"
      ],
      "execution_count": 28,
      "outputs": [
        {
          "output_type": "stream",
          "text": [
            "Model: \"sequential_3\"\n",
            "_________________________________________________________________\n",
            "Layer (type)                 Output Shape              Param #   \n",
            "=================================================================\n",
            "dense_12 (Dense)             (None, 2048)              1607680   \n",
            "_________________________________________________________________\n",
            "re_lu_9 (ReLU)               (None, 2048)              0         \n",
            "_________________________________________________________________\n",
            "dropout_2 (Dropout)          (None, 2048)              0         \n",
            "_________________________________________________________________\n",
            "dense_13 (Dense)             (None, 1024)              2098176   \n",
            "_________________________________________________________________\n",
            "re_lu_10 (ReLU)              (None, 1024)              0         \n",
            "_________________________________________________________________\n",
            "dropout_3 (Dropout)          (None, 1024)              0         \n",
            "_________________________________________________________________\n",
            "dense_14 (Dense)             (None, 256)               262400    \n",
            "_________________________________________________________________\n",
            "re_lu_11 (ReLU)              (None, 256)               0         \n",
            "_________________________________________________________________\n",
            "dense_15 (Dense)             (None, 1)                 257       \n",
            "=================================================================\n",
            "Total params: 3,968,513\n",
            "Trainable params: 3,968,513\n",
            "Non-trainable params: 0\n",
            "_________________________________________________________________\n",
            "None\n"
          ],
          "name": "stdout"
        }
      ]
    },
    {
      "cell_type": "code",
      "metadata": {
        "id": "1AU0QnjizNj-"
      },
      "source": [
        "def create_gan(discriminator,generator):\n",
        "    discriminator.trainable = False\n",
        "    gan_input = Input(shape=(100,))\n",
        "    x = generator(gan_input)\n",
        "    gan_output = discriminator(x)\n",
        "    gan = Model(inputs = gan_input, outputs = gan_output)\n",
        "    gan.compile(loss = \"binary_crossentropy\", optimizer=\"adam\")\n",
        "    return gan"
      ],
      "execution_count": 29,
      "outputs": []
    },
    {
      "cell_type": "code",
      "metadata": {
        "colab": {
          "base_uri": "https://localhost:8080/"
        },
        "id": "WzRzJMSCzNj_",
        "outputId": "61c61ef3-6fbf-453e-ec7b-27738c36048d"
      },
      "source": [
        "gan = create_gan(d,g)\n",
        "print(gan.summary())"
      ],
      "execution_count": 30,
      "outputs": [
        {
          "output_type": "stream",
          "text": [
            "Model: \"model_1\"\n",
            "_________________________________________________________________\n",
            "Layer (type)                 Output Shape              Param #   \n",
            "=================================================================\n",
            "input_2 (InputLayer)         [(None, 100)]             0         \n",
            "_________________________________________________________________\n",
            "sequential_2 (Sequential)    (None, 784)               4282640   \n",
            "_________________________________________________________________\n",
            "sequential_3 (Sequential)    (None, 1)                 3968513   \n",
            "=================================================================\n",
            "Total params: 8,251,153\n",
            "Trainable params: 4,282,640\n",
            "Non-trainable params: 3,968,513\n",
            "_________________________________________________________________\n",
            "None\n"
          ],
          "name": "stdout"
        }
      ]
    },
    {
      "cell_type": "code",
      "metadata": {
        "colab": {
          "base_uri": "https://localhost:8080/"
        },
        "id": "wuTG96uizNkA",
        "outputId": "ff0a922d-e1a0-46b4-c554-a0df0a5e2627"
      },
      "source": [
        "epochs = 50\n",
        "batch_size = 512\n",
        "\n",
        "for e in range(epochs):\n",
        "    for _ in range(batch_size):\n",
        "        noise = np.random.normal(0,1,[batch_size,100])\n",
        "        generated_images = g.predict(noise)\n",
        "        image_bathc = x_train[np.random.randint(0, x_train.shape[0],batch_size)]\n",
        "        \n",
        "        x = np.concatenate([image_bathc,generated_images])\n",
        "        y_dis = np.zeros(batch_size*2)\n",
        "        y_dis[:batch_size] = 1\n",
        "        \n",
        "        d.trainable = True\n",
        "        d.train_on_batch(x,y_dis)\n",
        "        \n",
        "        noise = np.random.normal(0,1,[batch_size,100])\n",
        "        y_gen = np.ones(batch_size)\n",
        "        d.trainable = False\n",
        "        \n",
        "        gan.train_on_batch(noise,y_gen)\n",
        "    print(\"Epoch : \",e)"
      ],
      "execution_count": 31,
      "outputs": [
        {
          "output_type": "stream",
          "text": [
            "Epoch :  0\n",
            "Epoch :  1\n",
            "Epoch :  2\n",
            "Epoch :  3\n",
            "Epoch :  4\n",
            "Epoch :  5\n",
            "Epoch :  6\n",
            "Epoch :  7\n",
            "Epoch :  8\n",
            "Epoch :  9\n",
            "Epoch :  10\n",
            "Epoch :  11\n",
            "Epoch :  12\n",
            "Epoch :  13\n",
            "Epoch :  14\n",
            "Epoch :  15\n",
            "Epoch :  16\n",
            "Epoch :  17\n",
            "Epoch :  18\n",
            "Epoch :  19\n",
            "Epoch :  20\n",
            "Epoch :  21\n",
            "Epoch :  22\n",
            "Epoch :  23\n",
            "Epoch :  24\n",
            "Epoch :  25\n",
            "Epoch :  26\n",
            "Epoch :  27\n",
            "Epoch :  28\n",
            "Epoch :  29\n",
            "Epoch :  30\n",
            "Epoch :  31\n",
            "Epoch :  32\n",
            "Epoch :  33\n",
            "Epoch :  34\n",
            "Epoch :  35\n",
            "Epoch :  36\n",
            "Epoch :  37\n",
            "Epoch :  38\n",
            "Epoch :  39\n",
            "Epoch :  40\n",
            "Epoch :  41\n",
            "Epoch :  42\n",
            "Epoch :  43\n",
            "Epoch :  44\n",
            "Epoch :  45\n",
            "Epoch :  46\n",
            "Epoch :  47\n",
            "Epoch :  48\n",
            "Epoch :  49\n"
          ],
          "name": "stdout"
        }
      ]
    },
    {
      "cell_type": "code",
      "metadata": {
        "colab": {
          "base_uri": "https://localhost:8080/",
          "height": 248
        },
        "id": "sLKV_OUEzNkB",
        "outputId": "c9307827-1d34-487e-82f2-a2303cfcfba4"
      },
      "source": [
        "noise= np.random.normal(loc=0, scale=1, size=[100, 100])\n",
        "generated_images = g.predict(noise)\n",
        "generated_images = generated_images.reshape(100,28,28)\n",
        "plt.imshow(generated_images[35], interpolation='nearest')\n",
        "plt.axis('off')\n",
        "#plt.savefig(\"99.png\")\n",
        "plt.show()\n"
      ],
      "execution_count": 43,
      "outputs": [
        {
          "output_type": "display_data",
          "data": {
            "image/png": "[encoded data removed]",
            "text/plain": [
              "<Figure size 432x288 with 1 Axes>"
            ]
          },
          "metadata": {
            "tags": [],
            "needs_background": "light"
          }
        }
      ]
    },
    {
      "cell_type": "code",
      "metadata": {
        "id": "HCjyDiFLzNkC"
      },
      "source": [
        ""
      ],
      "execution_count": 17,
      "outputs": []
    }
  ]
}