{
 "cells": [
  {
   "cell_type": "code",
   "execution_count": 1,
   "metadata": {},
   "outputs": [],
   "source": [
    "import torch\n",
    "import torch.nn as nn\n",
    "import torch.nn.functional as f\n",
    "from PIL import Image\n",
    "import matplotlib.pyplot as plt\n",
    "import numpy as np\n",
    "import os\n",
    "import time"
   ]
  },
  {
   "cell_type": "markdown",
   "metadata": {},
   "source": [
    "# İs Cuda Available"
   ]
  },
  {
   "cell_type": "code",
   "execution_count": 2,
   "metadata": {},
   "outputs": [
    {
     "name": "stdout",
     "output_type": "stream",
     "text": [
      "cpu\n"
     ]
    }
   ],
   "source": [
    "device = torch.device(\"cuda:0\" if torch.cuda.is_available() else \"cpu\")\n",
    "print(device)"
   ]
  },
  {
   "cell_type": "code",
   "execution_count": 3,
   "metadata": {},
   "outputs": [],
   "source": [
    "def read_images(path,num_img):\n",
    "    array = np.zeros([num_img,64*32])\n",
    "    i = 0\n",
    "    for image in os.listdir(path):\n",
    "        img_path = path + \"\\\\\" + image\n",
    "        if image.endswith(\".png\"):\n",
    "            img = Image.open(img_path, mode=\"r\")\n",
    "            data = np.asarray(img, dtype=\"uint8\")\n",
    "            data = data.flatten()\n",
    "            array[i,:] = data\n",
    "            i += 1\n",
    "    return array    \n",
    "    "
   ]
  },
  {
   "cell_type": "code",
   "execution_count": 4,
   "metadata": {},
   "outputs": [],
   "source": [
    "train_neg_path = r\"C:\\Users\\mustdo\\Desktop\\workspace\\Machine Learning\\deeplearning\\LSIFIR\\Classification\\Train\\neg\"\n",
    "train_pos_path = r\"C:\\Users\\mustdo\\Desktop\\workspace\\Machine Learning\\deeplearning\\LSIFIR\\Classification\\Train\\pos\"\n",
    "\n",
    "pos_nums = 10208\n",
    "neg_nums = 43390\n",
    "\n",
    "pos_train_array = read_images(train_pos_path,pos_nums)\n",
    "neg_train_array = read_images(train_neg_path,neg_nums)"
   ]
  },
  {
   "cell_type": "code",
   "execution_count": 5,
   "metadata": {},
   "outputs": [
    {
     "name": "stdout",
     "output_type": "stream",
     "text": [
      "torch.Size([10208])\n",
      "torch.Size([43390])\n"
     ]
    }
   ],
   "source": [
    "x_pos_train_tensor = torch.from_numpy(pos_train_array) #pozitif resimleri numpy arrayden torch tensora çevirdik\n",
    "\n",
    "y_pos_train_tensor =torch.ones(pos_nums,dtype=torch.long) #pozitif resimler boyutu kadar 1 lerden oluşan bir tensor\n",
    "\n",
    "print(y_pos_train_tensor.size())\n",
    "\n",
    "x_neg_train_tensor = torch.from_numpy(neg_train_array) #negatif resimleri numpy arrayden torch tensora çevirdik\n",
    "\n",
    "y_neg_train_tensor =torch.zeros(neg_nums,dtype=torch.long) #negatif resimler boyutunda 0 lardan oluşan bir tensor\n",
    "\n",
    "print(y_neg_train_tensor.size())\n"
   ]
  },
  {
   "cell_type": "code",
   "execution_count": 6,
   "metadata": {},
   "outputs": [
    {
     "name": "stdout",
     "output_type": "stream",
     "text": [
      "torch.Size([53598, 2048])\n",
      "torch.Size([53598])\n"
     ]
    }
   ],
   "source": [
    "x_train = torch.cat((x_neg_train_tensor,x_pos_train_tensor),0) #pozitif ve negatif train verilerini x_train adıyla birleştirdik\n",
    "y_train = torch.cat((y_neg_train_tensor,y_pos_train_tensor),0) #kendi oluşturduğumuz 1 ve 0 lardan oluşan tensorları y_train adıyla birleştirdik\n",
    "print(x_train.size())\n",
    "\n",
    "print(y_train.size())"
   ]
  },
  {
   "cell_type": "code",
   "execution_count": 8,
   "metadata": {},
   "outputs": [],
   "source": [
    "test_neg_path = r\"C:\\Users\\mustdo\\Desktop\\workspace\\Machine Learning\\deeplearning\\LSIFIR\\Classification\\Test\\neg\"\n",
    "test_pos_path = r\"C:\\Users\\mustdo\\Desktop\\workspace\\Machine Learning\\deeplearning\\LSIFIR\\Classification\\Test\\pos\"\n",
    "\n",
    "pos_test_nums = 5944\n",
    "neg_test_nums = 22050\n",
    "\n",
    "neg_test_array = read_images(test_neg_path,neg_test_nums)\n",
    "pos_test_array = read_images(test_pos_path,pos_test_nums)\n"
   ]
  },
  {
   "cell_type": "code",
   "execution_count": 9,
   "metadata": {},
   "outputs": [
    {
     "name": "stdout",
     "output_type": "stream",
     "text": [
      "torch.Size([5944])\n",
      "torch.Size([22050])\n"
     ]
    }
   ],
   "source": [
    "x_pos_test_tensor = torch.from_numpy(pos_test_array) #poztif test verilerini numpy arrayden torch tensore çevirdik\n",
    "\n",
    "y_pos_test_tensor =torch.ones(pos_test_nums,dtype=torch.long) #pozitif test verileri için 1 lerden oluşan tensor\n",
    "\n",
    "print(y_pos_test_tensor.size())\n",
    "\n",
    "x_neg_test_tensor = torch.from_numpy(neg_test_array) #negatif test verilerini numpy arrayden torch tensore çevirdik\n",
    "    \n",
    "y_neg_test_tensor =torch.zeros(neg_test_nums,dtype=torch.long) #negatif test verileri için 0 lerden oluşan tensor\n",
    "\n",
    "print(y_neg_test_tensor.size())\n"
   ]
  },
  {
   "cell_type": "code",
   "execution_count": 10,
   "metadata": {},
   "outputs": [
    {
     "name": "stdout",
     "output_type": "stream",
     "text": [
      "torch.Size([27994, 2048])\n",
      "torch.Size([27994])\n"
     ]
    }
   ],
   "source": [
    "x_test = torch.cat((x_neg_test_tensor,x_pos_test_tensor),0) #pozitif ve negatif train verilerini x_test adıyla birleştirdik\n",
    "y_test = torch.cat((y_neg_test_tensor,y_pos_test_tensor),0) #kendi oluşturduğumuz 1 ve 0 lardan oluşan tensorları y_train adıyla birleştirdik\n",
    "print(x_test.size())\n",
    "\n",
    "print(y_test.size())"
   ]
  },
  {
   "cell_type": "code",
   "execution_count": 11,
   "metadata": {},
   "outputs": [
    {
     "data": {
      "image/png": "[encoded data removed]",
      "text/plain": [
       "<Figure size 432x288 with 1 Axes>"
      ]
     },
     "metadata": {
      "needs_background": "light"
     },
     "output_type": "display_data"
    }
   ],
   "source": [
    "plt.imshow(x_train[12000,:].reshape(64,32),cmap=\"gray\")\n",
    "plt.show() "
   ]
  },
  {
   "cell_type": "code",
   "execution_count": 15,
   "metadata": {},
   "outputs": [],
   "source": [
    "num_epochs = 5\n",
    "num_classes = 2\n",
    "batch_size = 2 \n",
    "lr = 0.0001\n",
    "\n",
    "\n",
    "class net(nn.Module):\n",
    "    def __init__(self):\n",
    "        super(net,self).__init__()\n",
    "        \n",
    "    \n",
    "        self.conv1 = nn.Conv2d(1,10,5)\n",
    "        self.pool = nn.MaxPool2d(2,2)\n",
    "        self.conv2 = nn.Conv2d(10,16,5)\n",
    "        \n",
    "        self.fc1 = nn.Linear(16*13*5,520)\n",
    "        self.fc2 = nn.Linear(520,130)\n",
    "        self.fc3 = nn.Linear(130,num_classes)\n",
    "    def forward(self,x):\n",
    "        x = self.pool(f.relu(self.conv1(x)))\n",
    "        x = self.pool(f.relu(self.conv2(x)))\n",
    "        x = x.view(-1,16*13*5)\n",
    "        \n",
    "        x = f.relu(self.fc1(x))\n",
    "        x = f.relu(self.fc2(x))\n",
    "        x = self.fc3(x)\n",
    "        \n",
    "        return x\n",
    "    \n",
    "from torch.utils import data\n",
    "    \n",
    "train = torch.utils.data.TensorDataset(x_train,y_train)\n",
    "train_loader = torch.utils.data.DataLoader(train, batch_size=batch_size, shuffle=True)\n",
    "\n",
    "test = torch.utils.data.TensorDataset(x_test,y_test)\n",
    "test_loader = torch.utils.data.DataLoader(test, batch_size=batch_size, shuffle=False)"
   ]
  },
  {
   "cell_type": "code",
   "execution_count": 16,
   "metadata": {},
   "outputs": [],
   "source": [
    "nnet = net()\n",
    "\n",
    "criterion = nn.CrossEntropyLoss()\n",
    "\n",
    "import torch.optim as optim \n",
    "optimizer = optim.SGD(nnet.parameters(), lr=lr, momentum=0.8)"
   ]
  },
  {
   "cell_type": "code",
   "execution_count": 18,
   "metadata": {},
   "outputs": [
    {
     "name": "stdout",
     "output_type": "stream",
     "text": [
      "test accuarcy :  93.30213617203687\n",
      "train accuarcy :  99.67536102093362\n",
      "test accuarcy :  94.28806172751304\n",
      "train accuarcy :  99.73693048248069\n",
      "test accuarcy :  92.88061727513039\n",
      "train accuarcy :  99.85447218179783\n",
      "test accuarcy :  93.49503465028221\n",
      "train accuarcy :  99.97387962237397\n",
      "test accuarcy :  93.19497035078946\n",
      "train accuarcy :  99.98693981118699\n",
      "Train is done\n",
      "processing time :  68.94741425116857\n"
     ]
    }
   ],
   "source": [
    "start = time.time()\n",
    "\n",
    "total_step = len(train_loader)\n",
    "train_acc = []\n",
    "test_acc = []\n",
    "loss_list = []\n",
    "\n",
    "\n",
    "\n",
    "\n",
    "gpu = False\n",
    "\n",
    "for epoch in range(num_epochs):\n",
    "    for i,data in enumerate(train_loader,0):\n",
    "        inputs, labels = data\n",
    "        inputs = inputs.view(batch_size,1,64,32)\n",
    "        inputs = inputs.float()\n",
    "        \n",
    "        \n",
    "        optimizer.zero_grad()\n",
    "        \n",
    "        outputs = nnet(inputs)\n",
    "        \n",
    "        loss = criterion(outputs,labels)\n",
    "        \n",
    "        loss.backward()\n",
    "        \n",
    "        optimizer.step()\n",
    "        \n",
    "    correct = 0\n",
    "    total = 0\n",
    "    with torch.no_grad():\n",
    "        for data in test_loader:\n",
    "            images,labels = data\n",
    "            \n",
    "            images = images.view(batch_size,1,64,32)\n",
    "            images =images.float()\n",
    "            \n",
    "            outputs = nnet(images)\n",
    "            _,predicted = torch.max(outputs.data,1)\n",
    "            total += labels.size(0)\n",
    "            correct += (predicted == labels).sum().item()\n",
    "            \n",
    "            if (i + 1) % 2 == 0:\n",
    "                print('Epoch [{}/{}], Step [{}/{}], Loss: {:.4f}, Accuracy: {:.2f}%'\n",
    "                      .format(epoch + 1, num_epochs, i + 1, total_step, loss.item(),\n",
    "                              (correct / total) * 100))\n",
    "    acc1 = 100*correct/total\n",
    "    print(\"test accuarcy : \",acc1)\n",
    "    test_acc.append(acc1)\n",
    "    \n",
    "    correct = 0\n",
    "    total = 0\n",
    "    with torch.no_grad():\n",
    "        for data in train_loader:\n",
    "            images,labels = data\n",
    "            \n",
    "            images = images.view(batch_size,1,64,32)\n",
    "            images =images.float()\n",
    "            \n",
    "            outputs = nnet(images)\n",
    "            _,predicted = torch.max(outputs.data,1)\n",
    "            total += labels.size(0)\n",
    "            correct += (predicted == labels).sum().item()\n",
    "    acc2 = 100*correct/total\n",
    "    print(\"train accuarcy : \",acc2)\n",
    "    train_acc.append(acc2)\n",
    "\n",
    "    \n",
    "print(\"Train is done\")\n",
    "    \n",
    "finish = time.time()\n",
    "\n",
    "processing_time = (finish-start)/60\n",
    "print(\"processing time : \",processing_time)"
   ]
  },
  {
   "cell_type": "code",
   "execution_count": null,
   "metadata": {},
   "outputs": [],
   "source": []
  },
  {
   "cell_type": "code",
   "execution_count": null,
   "metadata": {},
   "outputs": [],
   "source": []
  },
  {
   "cell_type": "code",
   "execution_count": null,
   "metadata": {},
   "outputs": [],
   "source": []
  },
  {
   "cell_type": "code",
   "execution_count": null,
   "metadata": {},
   "outputs": [],
   "source": []
  },
  {
   "cell_type": "code",
   "execution_count": null,
   "metadata": {},
   "outputs": [],
   "source": [
    "\n"
   ]
  },
  {
   "cell_type": "code",
   "execution_count": null,
   "metadata": {},
   "outputs": [],
   "source": [
    "\n"
   ]
  }
 ],
 "metadata": {
  "kernelspec": {
   "display_name": "Python 3",
   "language": "python",
   "name": "python3"
  },
  "language_info": {
   "codemirror_mode": {
    "name": "ipython",
    "version": 3
   },
   "file_extension": ".py",
   "mimetype": "text/x-python",
   "name": "python",
   "nbconvert_exporter": "python",
   "pygments_lexer": "ipython3",
   "version": "3.7.6"
  }
 },
 "nbformat": 4,
 "nbformat_minor": 4
}
